{
 "cells": [
  {
   "cell_type": "markdown",
   "metadata": {},
   "source": [
    "#  <span style='color:#43b8f7'>Technical Test</span>\n",
    " <img src=\"https://upload.wikimedia.org/wikipedia/commons/thumb/c/cc/BlaBlaCar_logo.svg/1024px-BlaBlaCar_logo.svg.png\"\n",
    "     alt=\"Markdown Monster icon\"\n",
    "     style=\"float: left; margin-right: 10px;width:25%;height:50%\" />"
   ]
  },
  {
   "cell_type": "markdown",
   "metadata": {},
   "source": [
    "## I -Define functions"
   ]
  },
  {
   "cell_type": "code",
   "execution_count": 458,
   "metadata": {},
   "outputs": [],
   "source": [
    "# the paths of the files containig input\n",
    "path1 = \"blabla.txt\"\n",
    "path2 = \"blabla_2.txt\""
   ]
  },
  {
   "cell_type": "code",
   "execution_count": 459,
   "metadata": {},
   "outputs": [],
   "source": [
    "def read_file(path):\n",
    "\n",
    "    # Return the mowers in the input file & the max size of lawn \n",
    "    \n",
    "    file1 = open(path, 'r') \n",
    "    count = 0\n",
    "    mowers = []\n",
    "    line = file1.readline()\n",
    "    \n",
    "    #add the law size to the list\n",
    "    mowers.append(line.strip())\n",
    "    \n",
    "    # append the mowers to ower list\n",
    "    while True: \n",
    "        count += 1\n",
    "        mower = {}\n",
    "        # Get next line from file \n",
    "        line = file1.readline() \n",
    "        \n",
    "        # if line is empty \n",
    "        # end of file is reached \n",
    "        if not line: \n",
    "            break\n",
    "#         print(\"Line{}: {}\".format(count, line.strip())) \n",
    "        #### form the mowers object\n",
    "        line_nav = file1.readline()\n",
    "        mower[\"x\"]= int(line.strip().split(sep=\" \")[0])\n",
    "        mower[\"y\"]= int(line.strip().split(sep=\" \")[1])\n",
    "        mower[\"d\"]= line.strip().split(sep=\" \")[2]\n",
    "        mower[\"nav\"] = line_nav.strip()+'0'\n",
    "        mower[\"id\"] = count\n",
    "        # add mower to the list\n",
    "        mowers.append(mower)\n",
    "    print(mowers)\n",
    "    return mowers\n",
    "    file1.close()"
   ]
  },
  {
   "cell_type": "code",
   "execution_count": 460,
   "metadata": {},
   "outputs": [],
   "source": [
    "def left(d):\n",
    "    # return the next left direction based on actual direction\n",
    "    \n",
    "    print('L')\n",
    "    if d== 'N' : d='W'\n",
    "    elif d == 'W' : d='S'\n",
    "    elif d== 'S' : d='E'\n",
    "    else : d='N'\n",
    "    return d\n",
    "    "
   ]
  },
  {
   "cell_type": "code",
   "execution_count": 461,
   "metadata": {},
   "outputs": [],
   "source": [
    "def right(d):\n",
    "    # turn right based on the actual direction(Nord, South)\n",
    "    \n",
    "    print('R')\n",
    "    if d== 'N' : d='E'\n",
    "    elif d == 'W' : d='N'\n",
    "    elif d== 'S' : d='W'\n",
    "    else : d='S'\n",
    "    return d"
   ]
  },
  {
   "cell_type": "code",
   "execution_count": 462,
   "metadata": {},
   "outputs": [],
   "source": [
    "def forward(x,y,d,x_max,y_max):\n",
    "    # returns the next position in the lawn after a forward instruction\n",
    "    \n",
    "    print('F')\n",
    "    if d== 'N' : \n",
    "        if y<y_max-1 :y+=1\n",
    "    elif d == 'W' : \n",
    "        if x>0 : x-=1\n",
    "    elif d== 'S' : \n",
    "        if y>0 : y-=1\n",
    "    else :\n",
    "        if x< x_max-1 : x+=1\n",
    "    return x,y"
   ]
  },
  {
   "cell_type": "code",
   "execution_count": 463,
   "metadata": {},
   "outputs": [],
   "source": [
    "def move(mower,lawn_matrix) : \n",
    "# \"\"\"   \n",
    "#     move the mower with x0,y0,Direction and navigation path inside the lawn matrix\n",
    "# \"\"\"\n",
    "    finish = 0\n",
    "    # get next instruction\n",
    "    inst = mower[\"nav\"][0]\n",
    "    if inst == 'L': \n",
    "        mower['d'] = left(mower['d'])\n",
    "        mower['nav'] = mower['nav'][1:]\n",
    "        print('the mower N° :',mower['id'])\n",
    "    elif inst == 'R' :\n",
    "        mower['d'] = right(mower['d'])\n",
    "        mower['nav'] = mower['nav'][1:]\n",
    "        print('the mower N° :',mower['id'])\n",
    "    elif inst == \"0\":\n",
    "        finish = 1\n",
    "    else :\n",
    "        x,y =  forward(mower['x'],mower['y'],mower['d'],lawn_matrix.shape[0],lawn_matrix.shape[1])\n",
    "        mower['nav'] = mower['nav'][1:]\n",
    "        #check if the next position is available to move if not stay\n",
    "        if lawn_matrix[x,y]==0 : \n",
    "            lawn_matrix[x,y]= lawn_matrix[mower['x'],mower['y']]\n",
    "            lawn_matrix[mower['x'],mower['y']] = 0\n",
    "            mower['x']=x\n",
    "            mower['y']=y\n",
    "        print('the mower N° :',mower['id'])\n",
    "    return mower, lawn_matrix,finish"
   ]
  },
  {
   "cell_type": "markdown",
   "metadata": {},
   "source": [
    "## II- Execution :\n",
    "### 1- Prepare the variables \n",
    "### <span style='color:red'>if you get an error in the next cell :</span>  ValueError: invalid literal for int() with base 10\n",
    "\n",
    "Please go to the blabla.txt file and delete the result :  \n",
    "**Result**  \n",
    "**1 3 N**  \n",
    "**5 1 E**  \n"
   ]
  },
  {
   "cell_type": "code",
   "execution_count": 464,
   "metadata": {},
   "outputs": [
    {
     "name": "stdout",
     "output_type": "stream",
     "text": [
      "['5 5', {'x': 1, 'y': 2, 'd': 'N', 'nav': 'LFLFLFLFF0', 'id': 1}, {'x': 3, 'y': 3, 'd': 'E', 'nav': 'FFRFFRFRRF0', 'id': 2}]\n"
     ]
    }
   ],
   "source": [
    "# get the contents of the input file \n",
    "mowers = read_file(path1)"
   ]
  },
  {
   "cell_type": "code",
   "execution_count": 465,
   "metadata": {},
   "outputs": [
    {
     "data": {
      "text/plain": [
       "['5 5',\n",
       " {'x': 1, 'y': 2, 'd': 'N', 'nav': 'LFLFLFLFF0', 'id': 1},\n",
       " {'x': 3, 'y': 3, 'd': 'E', 'nav': 'FFRFFRFRRF0', 'id': 2}]"
      ]
     },
     "execution_count": 465,
     "metadata": {},
     "output_type": "execute_result"
    }
   ],
   "source": [
    "# take  a look ;) at our mawers \n",
    "mowers"
   ]
  },
  {
   "cell_type": "code",
   "execution_count": 466,
   "metadata": {},
   "outputs": [],
   "source": [
    "lawn_size = mowers[0]\n",
    "mowers_in_move = mowers[1:]\n",
    "result =[]\n"
   ]
  },
  {
   "cell_type": "code",
   "execution_count": 467,
   "metadata": {},
   "outputs": [],
   "source": [
    "# the lawn is modelized with a numpy matrix, the position of mowers contain their ids && the rest is zeros\n",
    "import numpy as np\n",
    "lawn_size.split(\" \")\n",
    "lawn_matrix = np.zeros(\n",
    "    (int(lawn_size.split(\" \")[0])+1,\n",
    "     int(lawn_size.split(\" \")[1])+1\n",
    "    ))\n",
    "\n",
    "# puting mowers in their initail positions\n",
    "for i in range(len(mowers_in_move)) :\n",
    "    lawn_matrix[int(mowers_in_move[i]['x']),int(mowers_in_move[i]['y'])] = mowers_in_move[i]['id']"
   ]
  },
  {
   "cell_type": "code",
   "execution_count": null,
   "metadata": {},
   "outputs": [],
   "source": []
  },
  {
   "cell_type": "code",
   "execution_count": 468,
   "metadata": {},
   "outputs": [
    {
     "name": "stdout",
     "output_type": "stream",
     "text": [
      "Shape lawn  (6, 6)\n",
      "Mowers in move : [{'x': 1, 'y': 2, 'd': 'N', 'nav': 'LFLFLFLFF0', 'id': 1}, {'x': 3, 'y': 3, 'd': 'E', 'nav': 'FFRFFRFRRF0', 'id': 2}]\n",
      "Result : []\n",
      "The lawn matrix :\n",
      "[[0. 0. 0. 0. 0. 0.]\n",
      " [0. 0. 1. 0. 0. 0.]\n",
      " [0. 0. 0. 0. 0. 0.]\n",
      " [0. 0. 0. 2. 0. 0.]\n",
      " [0. 0. 0. 0. 0. 0.]\n",
      " [0. 0. 0. 0. 0. 0.]]\n"
     ]
    }
   ],
   "source": [
    "\n",
    "print(\"Shape lawn \",lawn_matrix.shape)\n",
    "print(\"Mowers in move :\",mowers_in_move)\n",
    "print(\"Result :\",result)\n",
    "print(\"The lawn matrix :\")\n",
    "print(lawn_matrix)"
   ]
  },
  {
   "cell_type": "markdown",
   "metadata": {},
   "source": [
    "### 2- Let's mow the lawn"
   ]
  },
  {
   "cell_type": "code",
   "execution_count": 469,
   "metadata": {},
   "outputs": [
    {
     "name": "stdout",
     "output_type": "stream",
     "text": [
      "[{'x': 1, 'y': 2, 'd': 'N', 'nav': 'LFLFLFLFF0', 'id': 1}, {'x': 3, 'y': 3, 'd': 'E', 'nav': 'FFRFFRFRRF0', 'id': 2}]\n",
      "[[0. 0. 0. 0. 0. 0.]\n",
      " [0. 0. 1. 0. 0. 0.]\n",
      " [0. 0. 0. 0. 0. 0.]\n",
      " [0. 0. 0. 2. 0. 0.]\n",
      " [0. 0. 0. 0. 0. 0.]\n",
      " [0. 0. 0. 0. 0. 0.]]\n",
      "L\n",
      "the mower N° : 1\n",
      "[{'x': 1, 'y': 2, 'd': 'W', 'nav': 'FLFLFLFF0', 'id': 1}, {'x': 3, 'y': 3, 'd': 'E', 'nav': 'FFRFFRFRRF0', 'id': 2}]\n",
      "[[0. 0. 0. 0. 0. 0.]\n",
      " [0. 0. 1. 0. 0. 0.]\n",
      " [0. 0. 0. 0. 0. 0.]\n",
      " [0. 0. 0. 2. 0. 0.]\n",
      " [0. 0. 0. 0. 0. 0.]\n",
      " [0. 0. 0. 0. 0. 0.]]\n",
      "F\n",
      "the mower N° : 2\n",
      "[{'x': 1, 'y': 2, 'd': 'W', 'nav': 'FLFLFLFF0', 'id': 1}, {'x': 4, 'y': 3, 'd': 'E', 'nav': 'FRFFRFRRF0', 'id': 2}]\n",
      "[[0. 0. 0. 0. 0. 0.]\n",
      " [0. 0. 1. 0. 0. 0.]\n",
      " [0. 0. 0. 0. 0. 0.]\n",
      " [0. 0. 0. 0. 0. 0.]\n",
      " [0. 0. 0. 2. 0. 0.]\n",
      " [0. 0. 0. 0. 0. 0.]]\n",
      "F\n",
      "the mower N° : 1\n",
      "[{'x': 0, 'y': 2, 'd': 'W', 'nav': 'LFLFLFF0', 'id': 1}, {'x': 4, 'y': 3, 'd': 'E', 'nav': 'FRFFRFRRF0', 'id': 2}]\n",
      "[[0. 0. 1. 0. 0. 0.]\n",
      " [0. 0. 0. 0. 0. 0.]\n",
      " [0. 0. 0. 0. 0. 0.]\n",
      " [0. 0. 0. 0. 0. 0.]\n",
      " [0. 0. 0. 2. 0. 0.]\n",
      " [0. 0. 0. 0. 0. 0.]]\n",
      "F\n",
      "the mower N° : 2\n",
      "[{'x': 0, 'y': 2, 'd': 'W', 'nav': 'LFLFLFF0', 'id': 1}, {'x': 5, 'y': 3, 'd': 'E', 'nav': 'RFFRFRRF0', 'id': 2}]\n",
      "[[0. 0. 1. 0. 0. 0.]\n",
      " [0. 0. 0. 0. 0. 0.]\n",
      " [0. 0. 0. 0. 0. 0.]\n",
      " [0. 0. 0. 0. 0. 0.]\n",
      " [0. 0. 0. 0. 0. 0.]\n",
      " [0. 0. 0. 2. 0. 0.]]\n",
      "L\n",
      "the mower N° : 1\n",
      "[{'x': 0, 'y': 2, 'd': 'S', 'nav': 'FLFLFF0', 'id': 1}, {'x': 5, 'y': 3, 'd': 'E', 'nav': 'RFFRFRRF0', 'id': 2}]\n",
      "[[0. 0. 1. 0. 0. 0.]\n",
      " [0. 0. 0. 0. 0. 0.]\n",
      " [0. 0. 0. 0. 0. 0.]\n",
      " [0. 0. 0. 0. 0. 0.]\n",
      " [0. 0. 0. 0. 0. 0.]\n",
      " [0. 0. 0. 2. 0. 0.]]\n",
      "R\n",
      "the mower N° : 2\n",
      "[{'x': 0, 'y': 2, 'd': 'S', 'nav': 'FLFLFF0', 'id': 1}, {'x': 5, 'y': 3, 'd': 'S', 'nav': 'FFRFRRF0', 'id': 2}]\n",
      "[[0. 0. 1. 0. 0. 0.]\n",
      " [0. 0. 0. 0. 0. 0.]\n",
      " [0. 0. 0. 0. 0. 0.]\n",
      " [0. 0. 0. 0. 0. 0.]\n",
      " [0. 0. 0. 0. 0. 0.]\n",
      " [0. 0. 0. 2. 0. 0.]]\n",
      "F\n",
      "the mower N° : 1\n",
      "[{'x': 0, 'y': 1, 'd': 'S', 'nav': 'LFLFF0', 'id': 1}, {'x': 5, 'y': 3, 'd': 'S', 'nav': 'FFRFRRF0', 'id': 2}]\n",
      "[[0. 1. 0. 0. 0. 0.]\n",
      " [0. 0. 0. 0. 0. 0.]\n",
      " [0. 0. 0. 0. 0. 0.]\n",
      " [0. 0. 0. 0. 0. 0.]\n",
      " [0. 0. 0. 0. 0. 0.]\n",
      " [0. 0. 0. 2. 0. 0.]]\n",
      "F\n",
      "the mower N° : 2\n",
      "[{'x': 0, 'y': 1, 'd': 'S', 'nav': 'LFLFF0', 'id': 1}, {'x': 5, 'y': 2, 'd': 'S', 'nav': 'FRFRRF0', 'id': 2}]\n",
      "[[0. 1. 0. 0. 0. 0.]\n",
      " [0. 0. 0. 0. 0. 0.]\n",
      " [0. 0. 0. 0. 0. 0.]\n",
      " [0. 0. 0. 0. 0. 0.]\n",
      " [0. 0. 0. 0. 0. 0.]\n",
      " [0. 0. 2. 0. 0. 0.]]\n",
      "L\n",
      "the mower N° : 1\n",
      "[{'x': 0, 'y': 1, 'd': 'E', 'nav': 'FLFF0', 'id': 1}, {'x': 5, 'y': 2, 'd': 'S', 'nav': 'FRFRRF0', 'id': 2}]\n",
      "[[0. 1. 0. 0. 0. 0.]\n",
      " [0. 0. 0. 0. 0. 0.]\n",
      " [0. 0. 0. 0. 0. 0.]\n",
      " [0. 0. 0. 0. 0. 0.]\n",
      " [0. 0. 0. 0. 0. 0.]\n",
      " [0. 0. 2. 0. 0. 0.]]\n",
      "F\n",
      "the mower N° : 2\n",
      "[{'x': 0, 'y': 1, 'd': 'E', 'nav': 'FLFF0', 'id': 1}, {'x': 5, 'y': 1, 'd': 'S', 'nav': 'RFRRF0', 'id': 2}]\n",
      "[[0. 1. 0. 0. 0. 0.]\n",
      " [0. 0. 0. 0. 0. 0.]\n",
      " [0. 0. 0. 0. 0. 0.]\n",
      " [0. 0. 0. 0. 0. 0.]\n",
      " [0. 0. 0. 0. 0. 0.]\n",
      " [0. 2. 0. 0. 0. 0.]]\n",
      "F\n",
      "the mower N° : 1\n",
      "[{'x': 1, 'y': 1, 'd': 'E', 'nav': 'LFF0', 'id': 1}, {'x': 5, 'y': 1, 'd': 'S', 'nav': 'RFRRF0', 'id': 2}]\n",
      "[[0. 0. 0. 0. 0. 0.]\n",
      " [0. 1. 0. 0. 0. 0.]\n",
      " [0. 0. 0. 0. 0. 0.]\n",
      " [0. 0. 0. 0. 0. 0.]\n",
      " [0. 0. 0. 0. 0. 0.]\n",
      " [0. 2. 0. 0. 0. 0.]]\n",
      "R\n",
      "the mower N° : 2\n",
      "[{'x': 1, 'y': 1, 'd': 'E', 'nav': 'LFF0', 'id': 1}, {'x': 5, 'y': 1, 'd': 'W', 'nav': 'FRRF0', 'id': 2}]\n",
      "[[0. 0. 0. 0. 0. 0.]\n",
      " [0. 1. 0. 0. 0. 0.]\n",
      " [0. 0. 0. 0. 0. 0.]\n",
      " [0. 0. 0. 0. 0. 0.]\n",
      " [0. 0. 0. 0. 0. 0.]\n",
      " [0. 2. 0. 0. 0. 0.]]\n",
      "L\n",
      "the mower N° : 1\n",
      "[{'x': 1, 'y': 1, 'd': 'N', 'nav': 'FF0', 'id': 1}, {'x': 5, 'y': 1, 'd': 'W', 'nav': 'FRRF0', 'id': 2}]\n",
      "[[0. 0. 0. 0. 0. 0.]\n",
      " [0. 1. 0. 0. 0. 0.]\n",
      " [0. 0. 0. 0. 0. 0.]\n",
      " [0. 0. 0. 0. 0. 0.]\n",
      " [0. 0. 0. 0. 0. 0.]\n",
      " [0. 2. 0. 0. 0. 0.]]\n",
      "F\n",
      "the mower N° : 2\n",
      "[{'x': 1, 'y': 1, 'd': 'N', 'nav': 'FF0', 'id': 1}, {'x': 4, 'y': 1, 'd': 'W', 'nav': 'RRF0', 'id': 2}]\n",
      "[[0. 0. 0. 0. 0. 0.]\n",
      " [0. 1. 0. 0. 0. 0.]\n",
      " [0. 0. 0. 0. 0. 0.]\n",
      " [0. 0. 0. 0. 0. 0.]\n",
      " [0. 2. 0. 0. 0. 0.]\n",
      " [0. 0. 0. 0. 0. 0.]]\n",
      "F\n",
      "the mower N° : 1\n",
      "[{'x': 1, 'y': 2, 'd': 'N', 'nav': 'F0', 'id': 1}, {'x': 4, 'y': 1, 'd': 'W', 'nav': 'RRF0', 'id': 2}]\n",
      "[[0. 0. 0. 0. 0. 0.]\n",
      " [0. 0. 1. 0. 0. 0.]\n",
      " [0. 0. 0. 0. 0. 0.]\n",
      " [0. 0. 0. 0. 0. 0.]\n",
      " [0. 2. 0. 0. 0. 0.]\n",
      " [0. 0. 0. 0. 0. 0.]]\n",
      "R\n",
      "the mower N° : 2\n",
      "[{'x': 1, 'y': 2, 'd': 'N', 'nav': 'F0', 'id': 1}, {'x': 4, 'y': 1, 'd': 'N', 'nav': 'RF0', 'id': 2}]\n",
      "[[0. 0. 0. 0. 0. 0.]\n",
      " [0. 0. 1. 0. 0. 0.]\n",
      " [0. 0. 0. 0. 0. 0.]\n",
      " [0. 0. 0. 0. 0. 0.]\n",
      " [0. 2. 0. 0. 0. 0.]\n",
      " [0. 0. 0. 0. 0. 0.]]\n",
      "F\n",
      "the mower N° : 1\n",
      "[{'x': 1, 'y': 3, 'd': 'N', 'nav': '0', 'id': 1}, {'x': 4, 'y': 1, 'd': 'N', 'nav': 'RF0', 'id': 2}]\n",
      "[[0. 0. 0. 0. 0. 0.]\n",
      " [0. 0. 0. 1. 0. 0.]\n",
      " [0. 0. 0. 0. 0. 0.]\n",
      " [0. 0. 0. 0. 0. 0.]\n",
      " [0. 2. 0. 0. 0. 0.]\n",
      " [0. 0. 0. 0. 0. 0.]]\n",
      "R\n",
      "the mower N° : 2\n",
      "[{'x': 1, 'y': 3, 'd': 'N', 'nav': '0', 'id': 1}, {'x': 4, 'y': 1, 'd': 'E', 'nav': 'F0', 'id': 2}]\n",
      "[[0. 0. 0. 0. 0. 0.]\n",
      " [0. 0. 0. 1. 0. 0.]\n",
      " [0. 0. 0. 0. 0. 0.]\n",
      " [0. 0. 0. 0. 0. 0.]\n",
      " [0. 2. 0. 0. 0. 0.]\n",
      " [0. 0. 0. 0. 0. 0.]]\n",
      "[{'x': 1, 'y': 3, 'd': 'N', 'nav': '0', 'id': 1}, {'x': 4, 'y': 1, 'd': 'E', 'nav': 'F0', 'id': 2}]\n",
      "[[0. 0. 0. 0. 0. 0.]\n",
      " [0. 0. 0. 1. 0. 0.]\n",
      " [0. 0. 0. 0. 0. 0.]\n",
      " [0. 0. 0. 0. 0. 0.]\n",
      " [0. 2. 0. 0. 0. 0.]\n",
      " [0. 0. 0. 0. 0. 0.]]\n",
      "F\n",
      "the mower N° : 2\n",
      "[{'x': 5, 'y': 1, 'd': 'E', 'nav': '0', 'id': 2}]\n",
      "[[0. 0. 0. 0. 0. 0.]\n",
      " [0. 0. 0. 1. 0. 0.]\n",
      " [0. 0. 0. 0. 0. 0.]\n",
      " [0. 0. 0. 0. 0. 0.]\n",
      " [0. 0. 0. 0. 0. 0.]\n",
      " [0. 2. 0. 0. 0. 0.]]\n"
     ]
    }
   ],
   "source": [
    "while len(mowers_in_move) > 0 :\n",
    "#     finish = 0\n",
    "    to_del=[]\n",
    "    for i in range(len(mowers_in_move)) :\n",
    "        print(mowers_in_move)\n",
    "        print(lawn_matrix)\n",
    "        mowers_in_move[i], lawn_matrix,finish = move(mowers_in_move[i],lawn_matrix)\n",
    "        if finish == 1 : \n",
    "            #  mower is at last position it will be poped from mawers_in_move \n",
    "            to_del.append(i)\n",
    "#             mowers_in_move.pop(i)\n",
    "    #delete mowers at finish and append its last sitauation to the result\n",
    "    for j in range(len(to_del)):\n",
    "        result.append(mowers_in_move[to_del[j]])\n",
    "        mowers_in_move[to_del[j]]= -1\n",
    "    for j in range(len(to_del)):\n",
    "#         delete the items =-1 from the list wich is equivalent to mowers at finish\n",
    "        mowers_in_move.remove(-1)\n",
    "\n",
    "#         del(mowers_in_move[to_del[j]])\n",
    "#         mowers_in_move.pop(to_del[j])\n",
    "\n"
   ]
  },
  {
   "cell_type": "code",
   "execution_count": 470,
   "metadata": {},
   "outputs": [
    {
     "data": {
      "text/plain": [
       "[{'x': 1, 'y': 3, 'd': 'N', 'nav': '0', 'id': 1},\n",
       " {'x': 5, 'y': 1, 'd': 'E', 'nav': '0', 'id': 2}]"
      ]
     },
     "execution_count": 470,
     "metadata": {},
     "output_type": "execute_result"
    }
   ],
   "source": [
    "result"
   ]
  },
  {
   "cell_type": "markdown",
   "metadata": {},
   "source": [
    "##   <span style=\"color:red\"> Warning !!!</span> ;)\n",
    "the (0,0) of the matrix is at **Left Top** corner\n",
    "\n"
   ]
  },
  {
   "cell_type": "code",
   "execution_count": 471,
   "metadata": {},
   "outputs": [
    {
     "name": "stdout",
     "output_type": "stream",
     "text": [
      "This is the result in the matrix : \n"
     ]
    },
    {
     "data": {
      "text/plain": [
       "array([[0., 0., 0., 0., 0., 0.],\n",
       "       [0., 0., 0., 1., 0., 0.],\n",
       "       [0., 0., 0., 0., 0., 0.],\n",
       "       [0., 0., 0., 0., 0., 0.],\n",
       "       [0., 0., 0., 0., 0., 0.],\n",
       "       [0., 2., 0., 0., 0., 0.]])"
      ]
     },
     "execution_count": 471,
     "metadata": {},
     "output_type": "execute_result"
    }
   ],
   "source": [
    "print(\"This is the result in the matrix : \")\n",
    "lawn_matrix"
   ]
  },
  {
   "cell_type": "markdown",
   "metadata": {},
   "source": [
    "## Write the Result to the file "
   ]
  },
  {
   "cell_type": "code",
   "execution_count": 472,
   "metadata": {},
   "outputs": [],
   "source": [
    "result_to_write = [0]*len(result)\n",
    "for m in result :\n",
    "    result_to_write[m['id']-1] = m"
   ]
  },
  {
   "cell_type": "code",
   "execution_count": 473,
   "metadata": {},
   "outputs": [],
   "source": [
    "# Open a file with access mode 'a'\n",
    "file_object = open(path1, 'a')\n",
    "# skip line and append 'Result'\n",
    "file_object.write('\\r\\n')\n",
    "file_object.write('Result')\n",
    "for mower in result_to_write :\n",
    "    file_object.write('\\r')\n",
    "    file_object.write(\"{} {} {}\".format(mower['x'],mower['y'] , mower['d']))\n",
    "    \n",
    "file_object.close()"
   ]
  },
  {
   "cell_type": "code",
   "execution_count": null,
   "metadata": {},
   "outputs": [],
   "source": []
  },
  {
   "cell_type": "code",
   "execution_count": null,
   "metadata": {},
   "outputs": [],
   "source": []
  }
 ],
 "metadata": {
  "kernelspec": {
   "display_name": "Python 3",
   "language": "python",
   "name": "python3"
  },
  "language_info": {
   "codemirror_mode": {
    "name": "ipython",
    "version": 3
   },
   "file_extension": ".py",
   "mimetype": "text/x-python",
   "name": "python",
   "nbconvert_exporter": "python",
   "pygments_lexer": "ipython3",
   "version": "3.7.3"
  }
 },
 "nbformat": 4,
 "nbformat_minor": 2
}
